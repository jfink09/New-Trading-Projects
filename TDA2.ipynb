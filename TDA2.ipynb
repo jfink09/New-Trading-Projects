{
  "nbformat": 4,
  "nbformat_minor": 0,
  "metadata": {
    "colab": {
      "provenance": [],
      "authorship_tag": "ABX9TyNzKRu1keJWKDm3osUlJPfb",
      "include_colab_link": true
    },
    "kernelspec": {
      "name": "python3",
      "display_name": "Python 3"
    },
    "language_info": {
      "name": "python"
    }
  },
  "cells": [
    {
      "cell_type": "markdown",
      "metadata": {
        "id": "view-in-github",
        "colab_type": "text"
      },
      "source": [
        "<a href=\"https://colab.research.google.com/github/jfink09/New-Trading-Projects/blob/main/TDA2.ipynb\" target=\"_parent\"><img src=\"https://colab.research.google.com/assets/colab-badge.svg\" alt=\"Open In Colab\"/></a>"
      ]
    },
    {
      "cell_type": "code",
      "execution_count": null,
      "metadata": {
        "id": "aMj3FQzP5hhR"
      },
      "outputs": [],
      "source": [
        "import time\n",
        "import urllib\n",
        "import requests\n",
        "from splinter import Browser\n",
        "from config import client_id, password, account_number"
      ]
    },
    {
      "cell_type": "code",
      "source": [
        "# Define the location of the Chrome Driver\n",
        "executable_path = {\"executable_path\": r\"Desktop\"}\n",
        "\n",
        "# Create a new instance of the chrome browser\n",
        "browser = Browser(\"chrome\", **executable_path, headless = False)"
      ],
      "metadata": {
        "id": "H7GIxN9u5t0v"
      },
      "execution_count": null,
      "outputs": []
    },
    {
      "cell_type": "code",
      "source": [
        "# Define the components of the URL\n",
        "method = \"GET\"\n",
        "url = \"https://auth.tdameritrade.com/auth?\"\n",
        "client_code = client_id + \"@AMER.OAUTHAP\"\n",
        "payload = {\"response_type\":\"code\",\n",
        "           \"redirect_uri\":\"http://localhost/test\",\n",
        "           \"client_id\":client_code}\n",
        "\n",
        "# Build the URL\n",
        "built_url = requests.Request(method, url, params=payload).prepare()\n",
        "built_url = built_url.url\n",
        "\n",
        "# Go to the URL\n",
        "Browser.visit(built_url)\n",
        "\n",
        "# Define the elements to pass through the login form\n",
        "payload = {\"username\":account_number,\n",
        "           \"password\":password}\n",
        "\n",
        "# Fill out each element in the form\n",
        "browser.find_by_id(\"username\").first.fill(payload[\"username\"])\n",
        "browser.find_by_id(\"password\").first.fill(payload[\"password\"])\n",
        "browser.find_by_id(\"accept\").first.click()\n",
        "\n",
        "# Click to accept authorization\n",
        "browser.find_by_id(\"accept\").first.click()\n",
        "\n",
        "# Give it one second to load\n",
        "time.sleep(1)\n",
        "new_url = browser.url\n",
        "\n",
        "# Grab the URL and parse it\n",
        "parsed_url = urllib.parse.unquote(new_url.split(\"code=\")[1])\n",
        "\n",
        "# Close the browser\n",
        "browser.quit()\n",
        "\n",
        "parse_url"
      ],
      "metadata": {
        "id": "w3Bl7VkJ6G9k"
      },
      "execution_count": null,
      "outputs": []
    },
    {
      "cell_type": "code",
      "source": [
        "# Define the endpoint\n",
        "url = r\"https://api.tdameritrade.com/v1/auth2/token\"\n",
        "\n",
        "# Define the headers\n",
        "headers = {\"Content-Type\":\"application/x-www-form-urlencoded\"}\n",
        "\n",
        "# Define the payload\n",
        "payload = {\"grant_type\":\"authorization_code\",\n",
        "           \"access_type\":\"offline\",\n",
        "           \"code\":parse_url,\n",
        "           \"client_id\":client_id,\n",
        "           \"redirect_uri\":\"http://localhost/test\"}\n",
        "\n",
        "# Post the data to get the token\n",
        "authReply = requests.post(url,headers=headers, data=payload)\n",
        "\n",
        "# Convert JSON string to dictionary\n",
        "decoded_content = authReply.json()\n",
        "decoded_content"
      ],
      "metadata": {
        "id": "lIygPtUw-X93"
      },
      "execution_count": null,
      "outputs": []
    }
  ]
}