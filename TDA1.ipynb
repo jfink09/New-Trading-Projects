{
  "nbformat": 4,
  "nbformat_minor": 0,
  "metadata": {
    "colab": {
      "provenance": [],
      "authorship_tag": "ABX9TyMxzthr1q+j6if//yqkaGEJ",
      "include_colab_link": true
    },
    "kernelspec": {
      "name": "python3",
      "display_name": "Python 3"
    },
    "language_info": {
      "name": "python"
    }
  },
  "cells": [
    {
      "cell_type": "markdown",
      "metadata": {
        "id": "view-in-github",
        "colab_type": "text"
      },
      "source": [
        "<a href=\"https://colab.research.google.com/github/jfink09/New-Trading-Projects/blob/main/TDA1.ipynb\" target=\"_parent\"><img src=\"https://colab.research.google.com/assets/colab-badge.svg\" alt=\"Open In Colab\"/></a>"
      ]
    },
    {
      "cell_type": "markdown",
      "source": [
        "### Making Requests"
      ],
      "metadata": {
        "id": "follbM1Jh460"
      }
    },
    {
      "cell_type": "code",
      "source": [
        "import requests"
      ],
      "metadata": {
        "id": "mXM8Li7KiP9c"
      },
      "execution_count": null,
      "outputs": []
    },
    {
      "cell_type": "markdown",
      "source": [
        "### Daily Prices"
      ],
      "metadata": {
        "id": "Rlk6umdVicu1"
      }
    },
    {
      "cell_type": "code",
      "source": [
        "endpoint = r\"https://api.tdameritrade.com/v1/marketdata/{}/pricehistory\".format(\"GOOG\")\n",
        "\n",
        "# Define payload\n",
        "payload = {\"apikey\":client_id,\n",
        "           \"periodType\":\"day\",\n",
        "           \"frequencyType\":\"day\",\n",
        "           \"frequency\":\"1\",\n",
        "           \"period\":\"2\",\n",
        "           \"endDate\":\"1556158524000\",\n",
        "           \"startDate\":\"1556158524000\",\n",
        "           \"needExtendedHoursData\":\"true\"}\n",
        "\n",
        "# Make a request\n",
        "content = requests.get(url=endpoint, params=payload)\n",
        "\n",
        "# Convert it to a dictionary\n",
        "data = content.json()\n",
        "data"
      ],
      "metadata": {
        "id": "3_nh-Ertie-4"
      },
      "execution_count": null,
      "outputs": []
    },
    {
      "cell_type": "markdown",
      "source": [
        "### Get Stock Quotes"
      ],
      "metadata": {
        "id": "A-yznfkt22-N"
      }
    },
    {
      "cell_type": "code",
      "source": [
        "# The quote endpoint\n",
        "\n",
        "endpoint = r\"https://api.tdameritrade.com/v1/marketdata/{}/quotes\".format(\"GOOG\")\n",
        "\n",
        "# Define payload\n",
        "payload = {\"apikey\":client_id}\n",
        "\n",
        "# Make a request\n",
        "content = requests.get(url=endpoint, params=payload)\n",
        "\n",
        "# Convert it to a dictionary\n",
        "data = content.json()\n",
        "data"
      ],
      "metadata": {
        "id": "LNKTOB_Y1BYz"
      },
      "execution_count": null,
      "outputs": []
    },
    {
      "cell_type": "code",
      "source": [
        "# The quotes endpoint\n",
        "\n",
        "endpoint = r\"https://api.tdameritrade.com/v1/marketdata/{}/quotes\"\n",
        "\n",
        "# Define payload\n",
        "payload = {\"apikey\":client_id,\n",
        "           \"symbol\":\"GOOG,MSFT,AAPL,PINS\"}\n",
        "\n",
        "# Make a request\n",
        "content = requests.get(url=endpoint, params=payload)\n",
        "\n",
        "# Convert it to a dictionary\n",
        "data = content.json()\n",
        "data"
      ],
      "metadata": {
        "id": "KV2UqCpa3rS1"
      },
      "execution_count": null,
      "outputs": []
    }
  ]
}